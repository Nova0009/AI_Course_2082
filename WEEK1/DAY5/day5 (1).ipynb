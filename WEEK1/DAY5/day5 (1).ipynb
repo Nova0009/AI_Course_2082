{
  "nbformat": 4,
  "nbformat_minor": 0,
  "metadata": {
    "colab": {
      "provenance": []
    },
    "kernelspec": {
      "name": "python3",
      "display_name": "Python 3"
    },
    "language_info": {
      "name": "python"
    }
  },
  "cells": [
    {
      "cell_type": "markdown",
      "source": [
        "##NUMPY BASICS\n"
      ],
      "metadata": {
        "id": "NBoTLL3h4S41"
      }
    },
    {
      "cell_type": "markdown",
      "source": [
        "#CREATING A NUMPY ARRAY AND ITS ATTRIBUTES"
      ],
      "metadata": {
        "id": "j-dh8-JD4XZt"
      }
    },
    {
      "cell_type": "code",
      "execution_count": null,
      "metadata": {
        "colab": {
          "base_uri": "https://localhost:8080/"
        },
        "id": "OAyQbxoH4OiO",
        "outputId": "937dd9d0-9245-40d2-c812-5a47eaf3f182"
      },
      "outputs": [
        {
          "output_type": "stream",
          "name": "stdout",
          "text": [
            "[1 2 3 4 5]\n",
            "42\n",
            "[1 2 3 4 5]\n",
            "[[1 2 3]\n",
            " [4 5 6]]\n",
            "[[[ 1  2  3]\n",
            "  [ 4  5  6]]\n",
            "\n",
            " [[ 7  8  9]\n",
            "  [10 11 12]]]\n"
          ]
        }
      ],
      "source": [
        "#importing library\n",
        "import numpy as np\n",
        "\n",
        "#creating a list\n",
        "my_list = [1,2,3,4,5]\n",
        "\n",
        "#chnaging a list into a 1-d numpy array\n",
        "my_array = np.array(my_list)\n",
        "\n",
        "#printing the array\n",
        "print(my_array)\n",
        "\n",
        "\n",
        "#creating a 0-D numpy array\n",
        "zero_array = np.array(42)\n",
        "\n",
        "#printing the array\n",
        "print(zero_array)\n",
        "\n",
        "#insted of creating a list on a separate variable we can directly pass a list to .array()function like this\n",
        "my_array = np.array([1,2,3,4,5])\n",
        "\n",
        "#printing the 1-D numpy array\n",
        "print(my_array)\n",
        "\n",
        "#lets create a 2-D array!\n",
        "tow_d_array = np.array([[1,2,3],[4,5,6]])\n",
        "\n",
        "#printing the 2-D array\n",
        "print(tow_d_array)\n",
        "\n",
        "#lets create a 3-D array!\n",
        "three_d_array = np.array([[[1,2,3],[4,5,6]],[[7,8,9],[10,11,12]]])\n",
        "\n",
        "#printing the 3-D array\n",
        "print(three_d_array)\n"
      ]
    },
    {
      "cell_type": "code",
      "source": [
        "#lets create an array and see its attributes!\n",
        "my_array = np.array([[1,2,3],[4,5,6]])\n",
        "print(my_array) #printing the array\n",
        "print(my_array.ndim) #printing the dimension of the array\n",
        "print(my_array.shape) #printing the shape of the array\n",
        "print(my_array.dtype)  #printing the type of the array\n",
        "print(my_array.size) #printing the size of the array"
      ],
      "metadata": {
        "colab": {
          "base_uri": "https://localhost:8080/"
        },
        "id": "FZ8yAPWF5W93",
        "outputId": "c51e7dbc-6315-44b2-f8a5-22cbc3002bb9"
      },
      "execution_count": null,
      "outputs": [
        {
          "output_type": "stream",
          "name": "stdout",
          "text": [
            "[[1 2 3]\n",
            " [4 5 6]]\n",
            "2\n",
            "(2, 3)\n",
            "int64\n",
            "6\n"
          ]
        }
      ]
    },
    {
      "cell_type": "markdown",
      "source": [
        "##ACCESSING AND MANUPULATING ARRAY ELEMENTS\n"
      ],
      "metadata": {
        "id": "OaEHReNJ9EXv"
      }
    },
    {
      "cell_type": "code",
      "source": [
        "#lets create a 1-D array and print one of its elements\n",
        "one_arr = np.array([1,2,3,4,5,6])\n",
        "print(one_arr[4])\n",
        "\n",
        "#lets print using negative indexing\n",
        "print(one_arr[-3])"
      ],
      "metadata": {
        "colab": {
          "base_uri": "https://localhost:8080/"
        },
        "id": "DFWFQ8Wg8Bqu",
        "outputId": "60b08952-9149-4f89-c839-d8ffcd94f595"
      },
      "execution_count": null,
      "outputs": [
        {
          "output_type": "stream",
          "name": "stdout",
          "text": [
            "5\n",
            "4\n"
          ]
        }
      ]
    },
    {
      "cell_type": "code",
      "source": [
        "#lets do for a 2-D array\n",
        "two_arr = np.array([[1,2,3],[4,5,6]])\n",
        "print(two_arr[1,2])\n",
        "print(two_arr[0,-1])"
      ],
      "metadata": {
        "colab": {
          "base_uri": "https://localhost:8080/"
        },
        "id": "GMZtd5vt9maO",
        "outputId": "8d0be406-41f8-472f-a7af-76b5a8d2b902"
      },
      "execution_count": null,
      "outputs": [
        {
          "output_type": "stream",
          "name": "stdout",
          "text": [
            "6\n",
            "3\n"
          ]
        }
      ]
    },
    {
      "cell_type": "code",
      "source": [
        "#lets do for a 3-D array\n",
        "three_arr = np.array([[[1,2,3],[4,5,6]],[[7,8,9],[10,11,12]]])\n",
        "print(three_arr[1,1,2])"
      ],
      "metadata": {
        "colab": {
          "base_uri": "https://localhost:8080/"
        },
        "id": "esxvSIEY_bhi",
        "outputId": "5f3e7471-ddb8-48bc-f6f7-4bcaf5a22f92"
      },
      "execution_count": null,
      "outputs": [
        {
          "output_type": "stream",
          "name": "stdout",
          "text": [
            "12\n"
          ]
        }
      ]
    },
    {
      "cell_type": "markdown",
      "source": [
        "##clicing arrays"
      ],
      "metadata": {
        "id": "iGlQRznoAyAi"
      }
    },
    {
      "cell_type": "markdown",
      "source": [
        "#someimportant slicing concepts\n",
        "array[start:end]\n",
        "\n",
        "array[start:end:steps]\n"
      ],
      "metadata": {
        "id": "fmXojVFtB8qd"
      }
    },
    {
      "cell_type": "code",
      "source": [
        "#slicing array from 0th index to 9th index\n",
        "my_array = np.array([1,2,3,4,5,6,7,8,9,10])\n",
        "print(my_array[1:5])\n",
        "\n"
      ],
      "metadata": {
        "colab": {
          "base_uri": "https://localhost:8080/"
        },
        "id": "hiMrZbtnAm7S",
        "outputId": "f3199fbf-666c-4254-ead9-7e20a642d910"
      },
      "execution_count": null,
      "outputs": [
        {
          "output_type": "stream",
          "name": "stdout",
          "text": [
            "[2 3 4 5]\n"
          ]
        }
      ]
    },
    {
      "cell_type": "code",
      "source": [
        "#slicing with steps\n",
        "my_new_array = np.array([1,2,3,4,5,6,7,8,9,10])\n",
        "print(my_new_array[0:9:2])\n"
      ],
      "metadata": {
        "colab": {
          "base_uri": "https://localhost:8080/"
        },
        "id": "qalZoKKNCMJw",
        "outputId": "35a852e1-91c6-4257-ea7a-485ee3bbf598"
      },
      "execution_count": null,
      "outputs": [
        {
          "output_type": "stream",
          "name": "stdout",
          "text": [
            "[1 3 5 7 9]\n"
          ]
        }
      ]
    },
    {
      "cell_type": "code",
      "source": [
        "#slicing on a 2-D array\n",
        "my_two_d = np.array([[1,2,3,4,5,6,7,8,9],[10,11,12,13,14,15,16,17,18]])\n",
        "print(my_two_d[1,0:6])\n",
        "print(my_two_d[0,3:6])"
      ],
      "metadata": {
        "colab": {
          "base_uri": "https://localhost:8080/"
        },
        "id": "Q_6ywDpKCxdn",
        "outputId": "bcb17c4a-46f4-4ba4-c3b7-b61e0ec99d9f"
      },
      "execution_count": null,
      "outputs": [
        {
          "output_type": "stream",
          "name": "stdout",
          "text": [
            "[10 11 12 13 14 15]\n",
            "[4 5 6]\n"
          ]
        }
      ]
    },
    {
      "cell_type": "code",
      "source": [
        "np.ones((3,3))"
      ],
      "metadata": {
        "colab": {
          "base_uri": "https://localhost:8080/"
        },
        "id": "fq433JEbER5q",
        "outputId": "c0a1941c-f9ca-47b4-b7af-542fa23f853e"
      },
      "execution_count": null,
      "outputs": [
        {
          "output_type": "execute_result",
          "data": {
            "text/plain": [
              "array([[1., 1., 1.],\n",
              "       [1., 1., 1.],\n",
              "       [1., 1., 1.]])"
            ]
          },
          "metadata": {},
          "execution_count": 36
        }
      ]
    },
    {
      "cell_type": "code",
      "source": [
        "my_list = [7,14,21,28]\n",
        "\n",
        "my_array = np.array(my_list)\n",
        "\n",
        "print(my_list)"
      ],
      "metadata": {
        "colab": {
          "base_uri": "https://localhost:8080/"
        },
        "id": "xxqkCYivFhhn",
        "outputId": "96960e8d-60d5-4bb8-fb11-9fce674c8519"
      },
      "execution_count": null,
      "outputs": [
        {
          "output_type": "stream",
          "name": "stdout",
          "text": [
            "[7, 14, 21, 28]\n"
          ]
        }
      ]
    },
    {
      "cell_type": "code",
      "source": [
        "two_d_array = np.array([[5,10,15],[20,25,30]])\n",
        "print(my_array.shape)\n",
        "print(my_array.ndim)"
      ],
      "metadata": {
        "colab": {
          "base_uri": "https://localhost:8080/"
        },
        "id": "iCh5uqlxG8az",
        "outputId": "65befbc1-ee2e-433f-bc69-293e2f744648"
      },
      "execution_count": null,
      "outputs": [
        {
          "output_type": "stream",
          "name": "stdout",
          "text": [
            "(4,)\n",
            "1\n"
          ]
        }
      ]
    },
    {
      "cell_type": "code",
      "source": [
        "\n",
        "import numpy as np\n",
        "\n",
        "np.zeros((2,3))\n",
        "arr = np.arange(0, 13, 3)\n",
        "print(arr)"
      ],
      "metadata": {
        "colab": {
          "base_uri": "https://localhost:8080/"
        },
        "id": "euS6adIaHVzr",
        "outputId": "d520857b-b0af-4877-e796-31eef88dafa8"
      },
      "execution_count": null,
      "outputs": [
        {
          "output_type": "stream",
          "name": "stdout",
          "text": [
            "[ 0  3  6  9 12]\n"
          ]
        }
      ]
    },
    {
      "cell_type": "code",
      "source": [
        "import numpy as np\n",
        "arr = np.array([2,4,6,8])\n",
        "result = arr * 3\n",
        "print(result)"
      ],
      "metadata": {
        "colab": {
          "base_uri": "https://localhost:8080/"
        },
        "id": "jCx0m7mrH_4D",
        "outputId": "c49810f7-0118-451e-a0eb-8d84d0452da6"
      },
      "execution_count": null,
      "outputs": [
        {
          "output_type": "stream",
          "name": "stdout",
          "text": [
            "[ 6 12 18 24]\n"
          ]
        }
      ]
    },
    {
      "cell_type": "code",
      "source": [
        "import numpy as np\n",
        "arr = np.array([1,3,5,7,9,11])\n",
        "print(\"third element is:\", arr[2])\n",
        "print(arr[1:4])\n"
      ],
      "metadata": {
        "colab": {
          "base_uri": "https://localhost:8080/"
        },
        "id": "pIAXGj4_L0gz",
        "outputId": "49ca154b-e8ad-4f39-b32e-9c21719d1f1c"
      },
      "execution_count": null,
      "outputs": [
        {
          "output_type": "stream",
          "name": "stdout",
          "text": [
            "third element is: 5\n",
            "[3 5 7]\n"
          ]
        }
      ]
    },
    {
      "cell_type": "code",
      "source": [
        "#create 1D numpy array with even number from 2 to 10\n",
        "import numpy as np\n",
        "arr = np.arange(2 ,11,2)\n",
        "print(arr)\n",
        "result = arr + 5\n",
        "print(result)"
      ],
      "metadata": {
        "id": "g2Tv1DazT1BG",
        "colab": {
          "base_uri": "https://localhost:8080/"
        },
        "outputId": "8b344662-10ca-4396-8401-8a774b1032d2"
      },
      "execution_count": null,
      "outputs": [
        {
          "output_type": "stream",
          "name": "stdout",
          "text": [
            "[ 2  4  6  8 10]\n",
            "[ 7  9 11 13 15]\n"
          ]
        }
      ]
    },
    {
      "cell_type": "code",
      "source": [
        "#create a 2D array with shape (2, 3) and extract its first row\n",
        "import numpy as np\n",
        "two_d_array = np.array([[1,3,5],[2,4,6]])\n",
        "first_row = two_d_array[0]\n",
        "print(first_row)\n",
        "print(np.sum(first_row))"
      ],
      "metadata": {
        "colab": {
          "base_uri": "https://localhost:8080/"
        },
        "id": "JkrAkDgedyj5",
        "outputId": "0f08f378-bda9-49bd-8264-a0f498722bcb"
      },
      "execution_count": null,
      "outputs": [
        {
          "output_type": "stream",
          "name": "stdout",
          "text": [
            "[1 3 5]\n",
            "9\n"
          ]
        }
      ]
    },
    {
      "cell_type": "markdown",
      "source": [
        "1. Create a 2D NumPy array of shape (3, 3) with random integers between 1 and 10 (inclusive) using np.random.randint. Then, replace all values greater than 5 with 0 and print the modified array.\n"
      ],
      "metadata": {
        "id": "n048lR47JyZw"
      }
    },
    {
      "cell_type": "code",
      "source": [
        "#cretaing a 2-D numpy array (3,3) with random integers betn 1 to 10 using np.random.randint and replacing all values greater tha 5 with 0 and printing the modify array\n",
        "import numpy as np\n",
        "two_d_array = np.random.randint(1,11,size = (3,3))\n",
        "print(two_d_array)\n",
        "two_d_array[two_d_array > 5] = 0\n",
        "print(two_d_array)\n"
      ],
      "metadata": {
        "id": "Ae-qDN2XeSw1",
        "colab": {
          "base_uri": "https://localhost:8080/"
        },
        "outputId": "51b54d0c-8efd-48e5-da0e-742cea1bbdb5"
      },
      "execution_count": null,
      "outputs": [
        {
          "output_type": "stream",
          "name": "stdout",
          "text": [
            "[[5 6 4]\n",
            " [9 5 1]\n",
            " [9 7 2]]\n",
            "[[5 0 4]\n",
            " [0 5 1]\n",
            " [0 0 2]]\n"
          ]
        }
      ]
    },
    {
      "cell_type": "markdown",
      "source": [
        "2. Create two 1D NumPy arrays: [2, 4, 6, 8] and [1, 3, 5, 7]. Compute the element-wise sum and the dot product of the two arrays. Print both results.\n"
      ],
      "metadata": {
        "id": "7P1tWCr9MZRG"
      }
    },
    {
      "cell_type": "code",
      "source": [
        "#creating a 1-D numpy arrays: [2,4,6,8] and [1,3,5,7]. computing the element-wise sum and the dot product of the arrays and printing both results\n",
        "import numpy as np\n",
        "my_array = np.array([2,4,6,8])\n",
        "my_array2 = np.array([1,3,5,7])\n",
        "print(my_array + my_array2)\n",
        "print(np.dot(my_array,my_array2))\n"
      ],
      "metadata": {
        "colab": {
          "base_uri": "https://localhost:8080/"
        },
        "id": "Icuby5-iMTwG",
        "outputId": "8d04c8f7-01f1-4ef9-97ac-767d1c72101e"
      },
      "execution_count": null,
      "outputs": [
        {
          "output_type": "stream",
          "name": "stdout",
          "text": [
            "[ 3  7 11 15]\n",
            "100\n"
          ]
        }
      ]
    },
    {
      "cell_type": "markdown",
      "source": [
        "3. Create a 2D NumPy array of shape (4, 3) filled with ones using np.ones. Then, add a 1D array [10, 20, 30] to each row of the 2D array using broadcasting. Print the resulting array.\n"
      ],
      "metadata": {
        "id": "MR6mac5NO7kp"
      }
    },
    {
      "cell_type": "code",
      "source": [
        "#creating a 2-D numpy array shape of (4,3) filled with ones using np.ones then adding a 1D array[10,20,30] to each row of 2D array using broadcasting and printing the result\n",
        "import numpy as np\n",
        "two_d_array = np.ones((4,3))\n",
        "print(two_d_array)\n",
        "one_d_array = np.array([10,20,30])\n",
        "result = two_d_array + one_d_array\n",
        "print(result)"
      ],
      "metadata": {
        "colab": {
          "base_uri": "https://localhost:8080/"
        },
        "id": "SireQHi9Oldc",
        "outputId": "e6d04d15-e46c-4d7b-ed72-232bdeab8c97"
      },
      "execution_count": null,
      "outputs": [
        {
          "output_type": "stream",
          "name": "stdout",
          "text": [
            "[[1. 1. 1.]\n",
            " [1. 1. 1.]\n",
            " [1. 1. 1.]\n",
            " [1. 1. 1.]]\n",
            "[[11. 21. 31.]\n",
            " [11. 21. 31.]\n",
            " [11. 21. 31.]\n",
            " [11. 21. 31.]]\n"
          ]
        }
      ]
    },
    {
      "cell_type": "markdown",
      "source": [
        "4. Create a 2D NumPy array [[1, 2, 3], [4, 5, 6], [7, 8, 9]]. Extract the second column and compute its mean using np.mean. Then, reshape the original array into a 1D array and print both results.\n"
      ],
      "metadata": {
        "id": "eoYLpZcvQrpl"
      }
    },
    {
      "cell_type": "code",
      "source": [
        "#creating a 2-D numpy array [[1,2,3],[4,5,6],[7,8,9]] and extracting a second column and computig its mean using np.array and reshapinig the original arrya into 1D array and printing both result\n",
        "import numpy as np\n",
        "two_d_array = np.array([[1,2,3],[4,5,6],[7,8,9]])\n",
        "print(two_d_array)\n",
        "second_column = two_d_array[:,1]\n",
        "print(second_column)\n",
        "print(np.mean(second_column))\n",
        "one_d_array = two_d_array.reshape(-1)\n",
        "print(one_d_array)"
      ],
      "metadata": {
        "colab": {
          "base_uri": "https://localhost:8080/"
        },
        "id": "J7P9jhyuP5Zr",
        "outputId": "aa6c346b-47e9-4ec3-ff30-3c8addd66dd4"
      },
      "execution_count": null,
      "outputs": [
        {
          "output_type": "stream",
          "name": "stdout",
          "text": [
            "[[1 2 3]\n",
            " [4 5 6]\n",
            " [7 8 9]]\n",
            "[2 5 8]\n",
            "5.0\n",
            "[1 2 3 4 5 6 7 8 9]\n"
          ]
        }
      ]
    },
    {
      "cell_type": "markdown",
      "source": [
        "\n",
        "5. Create a 1D NumPy array [10, 20, 30, 40, 50, 60]. Use a boolean mask to select elements greater than 30, then square those elements. Print the original array and the modified array.\n"
      ],
      "metadata": {
        "id": "Viu2ZCfeSQaD"
      }
    },
    {
      "cell_type": "code",
      "source": [
        "#creating a 1D array [10,20,30,40,50,60] and using a boolean mask to select elements greater thann 30 and squaring those elements and printing original and modified arrya\n",
        "import numpy as np\n",
        "my_array = np.array([10,20,30,40,50,60])\n",
        "print(my_array)\n",
        "boolean_mask = my_array > 30\n",
        "print(boolean_mask)\n",
        "my_array[boolean_mask]\n",
        "print(my_array[boolean_mask])\n",
        "my_array[boolean_mask] **= 2\n",
        "print(my_array)"
      ],
      "metadata": {
        "colab": {
          "base_uri": "https://localhost:8080/"
        },
        "id": "k-Fr1lVCRYvL",
        "outputId": "5d6e3bf5-779a-41ce-f272-9efb9eee06b8"
      },
      "execution_count": null,
      "outputs": [
        {
          "output_type": "stream",
          "name": "stdout",
          "text": [
            "[10 20 30 40 50 60]\n",
            "[False False False  True  True  True]\n",
            "[40 50 60]\n",
            "[  10   20   30 1600 2500 3600]\n"
          ]
        }
      ]
    },
    {
      "cell_type": "code",
      "source": [],
      "metadata": {
        "id": "OYg_nzr8Thnq"
      },
      "execution_count": null,
      "outputs": []
    }
  ]
}