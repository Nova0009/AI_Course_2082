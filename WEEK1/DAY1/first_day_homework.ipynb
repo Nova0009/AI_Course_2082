{
  "nbformat": 4,
  "nbformat_minor": 0,
  "metadata": {
    "colab": {
      "provenance": [],
      "toc_visible": true
    },
    "kernelspec": {
      "name": "python3",
      "display_name": "Python 3"
    },
    "language_info": {
      "name": "python"
    }
  },
  "cells": [
    {
      "cell_type": "markdown",
      "source": [
        "##AGE CALCULATOR"
      ],
      "metadata": {
        "id": "2QmBbWN2CVBt"
      }
    },
    {
      "cell_type": "code",
      "execution_count": null,
      "metadata": {
        "colab": {
          "base_uri": "https://localhost:8080/"
        },
        "id": "ly63fuFKCMmT",
        "outputId": "4022aab0-1d60-47ef-ff4d-e3ff7fabf3df"
      },
      "outputs": [
        {
          "output_type": "stream",
          "name": "stdout",
          "text": [
            "enter a number: 2005\n",
            "20\n"
          ]
        }
      ],
      "source": [
        "#Creating a program that calculates persons age\n",
        "from datetime import date\n",
        "#Get the current date and time\n",
        "today = date.today()\n",
        "today.year\n",
        "\n",
        "#ask users to enter the date\n",
        "birth_year = int(input(\"enter a number: \"))\n",
        "\n",
        "#calculate age\n",
        "age = today.year -birth_year\n",
        "print(age)\n"
      ]
    },
    {
      "cell_type": "markdown",
      "source": [
        "##SIMPLE INTEREST CALCULATOR"
      ],
      "metadata": {
        "id": "P9Kk3HzStfVB"
      }
    },
    {
      "cell_type": "code",
      "source": [
        "def calculate_simple_interest(principal, rate, time):\n",
        "    \"\"\"\n",
        "    Calculates the simple interest.\n",
        "    :param principal: Principal amount\n",
        "    :param rate: Rate of interest (per annum)\n",
        "    :param time: Time in years\n",
        "    :return: Simple interest\n",
        "    \"\"\"\n",
        "    interest = (principal * rate * time) / 100\n",
        "    return interest\n",
        "\n",
        "def main():\n",
        "    print(\"=== Simple Interest Calculator ===\")\n",
        "\n",
        "    try:\n",
        "        principal = float(input(\"Enter the principal amount (P): $\"))\n",
        "        rate = float(input(\"Enter the rate of interest per annum (R): \"))\n",
        "        time = float(input(\"Enter the time in years (T): \"))\n",
        "\n",
        "        interest = calculate_simple_interest(principal, rate, time)\n",
        "        total_amount = principal + interest\n",
        "\n",
        "        print(f\"\\nSimple Interest: ${interest:.2f}\")\n",
        "        print(f\"Total Amount after {time} years: ${total_amount:.2f}\")\n",
        "    except ValueError:\n",
        "        print(\"Please enter valid numeric values.\")\n",
        "\n",
        "if __name__ == \"__main__\":\n",
        "    main()\n"
      ],
      "metadata": {
        "colab": {
          "base_uri": "https://localhost:8080/"
        },
        "id": "HJo46-O4BDu9",
        "outputId": "d51ae35e-a1c2-4276-c854-e9bcced049b0"
      },
      "execution_count": null,
      "outputs": [
        {
          "output_type": "stream",
          "name": "stdout",
          "text": [
            "=== Simple Interest Calculator ===\n",
            "Enter the principal amount (P): ₹10000\n",
            "Enter the rate of interest per annum (R): 13\n",
            "Enter the time in years (T): 4\n",
            "\n",
            "Simple Interest: ₹5200.00\n",
            "Total Amount after 4.0 years: ₹15200.00\n"
          ]
        }
      ]
    },
    {
      "cell_type": "markdown",
      "source": [
        "## BMI Calculator"
      ],
      "metadata": {
        "id": "TX5Ky9iMlHzW"
      }
    },
    {
      "cell_type": "code",
      "source": [
        "def calculate_bmi(weight, height):\n",
        "    \"\"\"\n",
        "    Calculates the BMI (Body Mass Index).\n",
        "    :param weight: Weight in kilograms\n",
        "    :param height: Height in meters\n",
        "    :return: BMI value\n",
        "    \"\"\"\n",
        "    bmi = weight / (height ** 2)\n",
        "    return bmi\n",
        "\n",
        "def interpret_bmi(bmi):\n",
        "    if bmi < 20:\n",
        "      return \"underweight\"\n",
        "    elif 20 <= bmi <27:\n",
        "      return \"Normal weight\"\n",
        "    elif 27 <= bmi <35:\n",
        "      return \"Overweight\"\n",
        "    else:\n",
        "      return \"obese\"\n",
        "\n",
        "# Ask user to put input\n",
        "weight = float(input(\"Enter your weight in kilograms (kg): \"))\n",
        "height = float(input(\"Enter your height in meters (m): \"))\n",
        "\n",
        "#calculate BMI\n",
        "bmi = calculate_bmi(weight, height)\n",
        "category = interpret_bmi(bmi)\n",
        "\n",
        "#print result\n",
        "print(f\"\\nYour BMI is: {bmi:.2f}\")\n",
        "print(f\"category: {category}\")"
      ],
      "metadata": {
        "id": "OPzk7K8rDKdY",
        "colab": {
          "base_uri": "https://localhost:8080/"
        },
        "outputId": "1d9d85d1-c2ac-423f-ab78-18b4bae3614a"
      },
      "execution_count": null,
      "outputs": [
        {
          "output_type": "stream",
          "name": "stdout",
          "text": [
            "Enter your weight in kilograms (kg): 84\n",
            "Enter your height in meters (m): 1.79\n",
            "\n",
            "Your BMI is: 26.22\n",
            "category: Normal weight\n"
          ]
        }
      ]
    },
    {
      "cell_type": "markdown",
      "source": [
        "##CURRECNY ECXCHANGE RTAE"
      ],
      "metadata": {
        "id": "xP3MIW5958oa"
      }
    },
    {
      "cell_type": "code",
      "source": [
        "def convert_currency(amount, exchange_rate):\n",
        "    \"\"\"\n",
        "    Convert an amount from one currency to another using the given exchange rate.\n",
        "    :param amount: Amount to be converted\n",
        "    :param exchange_rate: Exchange rate from the source currency to the target currency\n",
        "    :return: Converted amount\n",
        "    \"\"\"\n",
        "    converted_amount = amount * exchange_rate\n",
        "    return converted_amount\n",
        "\n"
      ],
      "metadata": {
        "id": "Ni6YFjmrv36Y"
      },
      "execution_count": null,
      "outputs": []
    }
  ]
}