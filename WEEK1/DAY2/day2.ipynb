{
  "nbformat": 4,
  "nbformat_minor": 0,
  "metadata": {
    "colab": {
      "provenance": []
    },
    "kernelspec": {
      "name": "python3",
      "display_name": "Python 3"
    },
    "language_info": {
      "name": "python"
    }
  },
  "cells": [
    {
      "cell_type": "markdown",
      "source": [
        "**##day1 coading**"
      ],
      "metadata": {
        "id": "w3BCfkRMr6xJ"
      }
    },
    {
      "cell_type": "code",
      "source": [
        "print(\"This is my first day coading python\")"
      ],
      "metadata": {
        "colab": {
          "base_uri": "https://localhost:8080/"
        },
        "id": "Y5sD29X3sMHe",
        "outputId": "e870673b-f662-48f0-dc7b-cdafe9f1d71d"
      },
      "execution_count": null,
      "outputs": [
        {
          "output_type": "stream",
          "name": "stdout",
          "text": [
            "This is my first day coading python\n"
          ]
        }
      ]
    },
    {
      "cell_type": "markdown",
      "source": [
        "##LOOPS IN PYHON"
      ],
      "metadata": {
        "id": "nip8gANOtyv9"
      }
    },
    {
      "cell_type": "code",
      "source": [
        "# Top 10 natural number ko code\n",
        "for i in range(1,11):\n",
        "  print(i * i *i)"
      ],
      "metadata": {
        "colab": {
          "base_uri": "https://localhost:8080/"
        },
        "id": "9nzqIfdBt3qY",
        "outputId": "26a62bf7-1e6e-46ed-8361-e22509ca39f9"
      },
      "execution_count": null,
      "outputs": [
        {
          "output_type": "stream",
          "name": "stdout",
          "text": [
            "1\n",
            "8\n",
            "27\n",
            "64\n",
            "125\n",
            "216\n",
            "343\n",
            "512\n",
            "729\n",
            "1000\n"
          ]
        }
      ]
    },
    {
      "cell_type": "markdown",
      "source": [
        "##FUNCTION IN PYTHON"
      ],
      "metadata": {
        "id": "U2sp8dOGuuMv"
      }
    },
    {
      "cell_type": "code",
      "source": [
        "# declaring function to calculate square of a number\n",
        "def calculate_square(length):\n",
        "  return length * length\n",
        "\n",
        "#calling a function\n",
        "print(\"The are of first is:\",calculate_square(8))\n",
        "print(\"the are of second is:\",calculate_square(10))"
      ],
      "metadata": {
        "colab": {
          "base_uri": "https://localhost:8080/"
        },
        "id": "K1rucIMXuAZX",
        "outputId": "fdfa945d-c14e-4bd4-cf82-f8bea79e79c4"
      },
      "execution_count": null,
      "outputs": [
        {
          "output_type": "stream",
          "name": "stdout",
          "text": [
            "The are of first is: 64\n",
            "the are of second is: 100\n"
          ]
        }
      ]
    },
    {
      "cell_type": "markdown",
      "source": [
        "LISTS IN PYTHON"
      ],
      "metadata": {
        "id": "meXcKA63w0z4"
      }
    },
    {
      "cell_type": "code",
      "source": [
        "fruits = [\"apples\", \"banana\", \"mango\", \"litchi\", \"watermelon\"]\n",
        "print(fruits)\n",
        "\n",
        "# #accessing elements from the list\n",
        "# print(fruits[0]) #first index\n",
        "# print(fruits[-3])\n",
        "# print(fruits[2])\n"
      ],
      "metadata": {
        "colab": {
          "base_uri": "https://localhost:8080/"
        },
        "id": "QKpzydV8vaGu",
        "outputId": "4291555f-082b-44c1-855a-38eb646447a5"
      },
      "execution_count": null,
      "outputs": [
        {
          "output_type": "stream",
          "name": "stdout",
          "text": [
            "['apples', 'banana', 'mango', 'litchi', 'watermelon']\n"
          ]
        }
      ]
    },
    {
      "cell_type": "markdown",
      "source": [
        "##SETS AND TUPLES(HOME ASSIGNMENT)\n"
      ],
      "metadata": {
        "id": "bI7tUjg-y6m0"
      }
    },
    {
      "cell_type": "markdown",
      "source": [
        "##DICTIONARY IN PYTHOON"
      ],
      "metadata": {
        "id": "ZssbLOgozCCy"
      }
    },
    {
      "cell_type": "code",
      "source": [
        "student = {\n",
        "    \"name\" : \"saroj\",\n",
        "    \"class\": 12,\n",
        "    \"gender\": \"male\"\n",
        "}\n",
        "\n",
        "#accessing values frm key ina dictionary\n",
        "print(student[\"name\"])\n",
        "print(student[\"class\"])\n",
        "\n",
        "#updating values of a particluar key in a dictionary\n",
        "student[\"gender\"] = \"female\"\n",
        "print(student)\n",
        "\n",
        "#Addding a new key-value pair into a dictionary\n",
        "student[\"roll_no\"] = 10\n",
        "print(student)\n",
        "\n",
        "\n",
        "#deleting a key-value pair from the existing dictionary\n",
        "del student[\"class\"]\n",
        "print(student)"
      ],
      "metadata": {
        "colab": {
          "base_uri": "https://localhost:8080/"
        },
        "id": "IlwCPfjnyLsE",
        "outputId": "9aab4ea5-cf31-44b7-d578-d0533dfdcbb0"
      },
      "execution_count": null,
      "outputs": [
        {
          "output_type": "stream",
          "name": "stdout",
          "text": [
            "saroj\n",
            "12\n",
            "{'name': 'saroj', 'class': 12, 'gender': 'female'}\n",
            "{'name': 'saroj', 'class': 12, 'gender': 'female', 'roll_no': 10}\n",
            "{'name': 'saroj', 'gender': 'female', 'roll_no': 10}\n"
          ]
        }
      ]
    },
    {
      "cell_type": "code",
      "source": [],
      "metadata": {
        "id": "lLH8bYowzknv"
      },
      "execution_count": null,
      "outputs": []
    }
  ]
}