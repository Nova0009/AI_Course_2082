{
  "nbformat": 4,
  "nbformat_minor": 0,
  "metadata": {
    "colab": {
      "provenance": []
    },
    "kernelspec": {
      "name": "python3",
      "display_name": "Python 3"
    },
    "language_info": {
      "name": "python"
    }
  },
  "cells": [
    {
      "cell_type": "markdown",
      "source": [
        "##FUNCTION/METHOD OF ALIASING"
      ],
      "metadata": {
        "id": "QC1HTmY9lJft"
      }
    },
    {
      "cell_type": "code",
      "execution_count": null,
      "metadata": {
        "colab": {
          "base_uri": "https://localhost:8080/"
        },
        "id": "vf29WC8Ek4Rk",
        "outputId": "7bcb0bc7-09e5-4f56-9f59-a42e0ff064ee"
      },
      "outputs": [
        {
          "output_type": "stream",
          "name": "stdout",
          "text": [
            "2024\n"
          ]
        }
      ],
      "source": [
        " def add(x, y):\n",
        "    return x + y\n",
        "\n",
        "sum_up = add\n",
        "\n",
        "print(sum_up(19, 2005))\n"
      ]
    },
    {
      "cell_type": "markdown",
      "source": [
        "function aliasing"
      ],
      "metadata": {
        "id": "4s-tJ0VaXCNz"
      }
    },
    {
      "cell_type": "code",
      "source": [
        "#Function aliasing\n",
        "def greet(name):\n",
        "    print(\"Hello,\", name)\n",
        "\n",
        "say_hi = greet\n",
        "\n",
        "say_hi(\"Alice\")\n",
        "greet(\"Bob\")\n"
      ],
      "metadata": {
        "colab": {
          "base_uri": "https://localhost:8080/"
        },
        "id": "XoJDwK5j5Abg",
        "outputId": "0bb7b2d9-3705-47fe-98a0-0ddca2ae0f2c"
      },
      "execution_count": null,
      "outputs": [
        {
          "output_type": "stream",
          "name": "stdout",
          "text": [
            "Hello, Alice\n",
            "Hello, Bob\n"
          ]
        }
      ]
    },
    {
      "cell_type": "code",
      "source": [
        "#method aliasing\n",
        "numbers = [1, 2, 3]\n",
        "\n",
        "# alias the append method\n",
        "add_item = numbers.append\n",
        "\n",
        "add_item(4)\n",
        "print(numbers)  # Output: [1, 2, 3, 4]\n"
      ],
      "metadata": {
        "colab": {
          "base_uri": "https://localhost:8080/"
        },
        "id": "d5FV9QdaXL4-",
        "outputId": "df533470-54d4-4212-839d-40506cc03817"
      },
      "execution_count": null,
      "outputs": [
        {
          "output_type": "stream",
          "name": "stdout",
          "text": [
            "[1, 2, 3, 4]\n"
          ]
        }
      ]
    },
    {
      "cell_type": "code",
      "source": [
        "#importing\n",
        "import random as rdn\n",
        "print(rdn.randint(1,10))\n",
        "\n",
        "#printing random number using .random() function/method\n",
        "random_float = rdn.random()\n",
        "print(random_float)\n",
        "\n",
        "random_floating_in_range = rdn.uniform(10.5,1000.99)\n",
        "print(random_floating_in_range)\n",
        "\n",
        "\n",
        "\n",
        "#HOMEWORK: EXPLORE MORE MODULES or FUNCTION/METHODS\n",
        "\n",
        "\n",
        "#creating a list\n",
        "my_list = [1, 2, 3, 4, 5]\n",
        "rdn.shuffle(my_list)\n",
        "print(\"shuffled list:\",my_list)\n",
        "\n",
        "\n",
        "\n",
        "\n",
        "\n",
        "#choosig colors using .choose()\n",
        "colors = [\"blue\", \"green\", \"black\", \"red \", \"white\"]\n",
        "picked = rdn.choice(colors)\n",
        "print(\"picked color:\",picked)\n",
        "\n",
        "\n",
        "\n",
        "\n",
        "#choosing multiple choice using .choice()\n",
        "multiple_choices = rdn.choices(colors, k=3)\n",
        "print(\"multiple choices:\",multiple_choices)\n",
        "\n",
        "\n",
        "\n",
        "#choosing unique choice using.sample()\n",
        "unique_choices = rdn.sample(colors, k=3)\n",
        "print(\"unique choices:\",unique_choices)\n",
        "\n",
        "\n",
        "\n",
        "\n"
      ],
      "metadata": {
        "colab": {
          "base_uri": "https://localhost:8080/"
        },
        "id": "CfWSUiQvXrKD",
        "outputId": "6355f98a-a56f-4f20-db08-e87175da1980"
      },
      "execution_count": null,
      "outputs": [
        {
          "output_type": "stream",
          "name": "stdout",
          "text": [
            "4\n",
            "0.6480796028711907\n",
            "541.1973400971978\n",
            "shuffled list: [3, 2, 1, 5, 4]\n",
            "picked color: white\n",
            "multiple choices: ['red ', 'black', 'white']\n",
            "unique choices: ['blue', 'green', 'white']\n"
          ]
        }
      ]
    },
    {
      "cell_type": "code",
      "source": [],
      "metadata": {
        "id": "7DzoqSYfX70I"
      },
      "execution_count": null,
      "outputs": []
    }
  ]
}