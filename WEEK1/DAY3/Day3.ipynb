{
  "nbformat": 4,
  "nbformat_minor": 0,
  "metadata": {
    "colab": {
      "provenance": []
    },
    "kernelspec": {
      "name": "python3",
      "display_name": "Python 3"
    },
    "language_info": {
      "name": "python"
    }
  },
  "cells": [
    {
      "cell_type": "markdown",
      "source": [
        "##STRING MANUPULATION IN PYTHON"
      ],
      "metadata": {
        "id": "qcJpYOAO9GcC"
      }
    },
    {
      "cell_type": "code",
      "execution_count": null,
      "metadata": {
        "colab": {
          "base_uri": "https://localhost:8080/"
        },
        "id": "0NGogOtW8-OW",
        "outputId": "c8d7a927-493a-4722-e8bb-041f5f353def"
      },
      "outputs": [
        {
          "output_type": "stream",
          "name": "stdout",
          "text": [
            "   HELLO PYTHON   \n",
            "   hello python   \n",
            "HELLO PYTHON\n",
            "   HELLO JAVA   \n",
            "['HELLO', 'PYTHON']\n",
            "HELLO-PYTHON\n"
          ]
        }
      ],
      "source": [
        "#creating a variable namex text which contains leading and trailing spaces\n",
        "text =\"   HELLO PYTHON   \"\n",
        "print(text)\n",
        "\n",
        "#using .lower() method/function to introduce lowercase\n",
        "print(text.lower())\n",
        "\n",
        "#using .strip() method to remove spaces\n",
        "print(text.strip())\n",
        "\n",
        "#replacing .replace() method to replace the text\n",
        "print(text.replace(\"PYTHON\", \"JAVA\"))\n",
        "\n",
        "\n",
        "#SPLITTING AND JOINING\n",
        "#Method/function changing\n",
        "splitted = text.strip().split()\n",
        "print(splitted)\n",
        "\n",
        "#using .join() method tojoin the seperated words\n",
        "joined = '-'.join(splitted)\n",
        "print(joined)\n"
      ]
    },
    {
      "cell_type": "markdown",
      "source": [
        "##MODULAR PROGRAMING IN PYTHON"
      ],
      "metadata": {
        "id": "KEYLukz8Cnu_"
      }
    },
    {
      "cell_type": "code",
      "source": [
        "import math\n",
        "\n",
        "#getting the square of 49  using .sqrt()\n",
        "square_root = math.sqrt(49)\n",
        "print(\"the square root of 49 is\",int(square_root))\n",
        "\n",
        "#Flooring and ceiling\n",
        "floor = math.floor(4.8)\n",
        "print(floor)\n",
        "\n",
        "\n",
        "#getting  ceiling using .ceil()\n",
        "ceil = math.ceil(4.8)\n",
        "print(ceil)\n"
      ],
      "metadata": {
        "colab": {
          "base_uri": "https://localhost:8080/"
        },
        "id": "ZvD3T9TvAPl2",
        "outputId": "0f0aa9e6-e623-47a5-cbfa-0c9d420d0641"
      },
      "execution_count": null,
      "outputs": [
        {
          "output_type": "stream",
          "name": "stdout",
          "text": [
            "the square root of 49 is 7\n",
            "4\n",
            "5\n"
          ]
        }
      ]
    },
    {
      "cell_type": "markdown",
      "source": [
        "##MODUEL ALIASING"
      ],
      "metadata": {
        "id": "1DGNTpbsERk8"
      }
    },
    {
      "cell_type": "code",
      "source": [
        "#import matplotlib.pyplot as plt"
      ],
      "metadata": {
        "id": "XZnVqv4JDP96"
      },
      "execution_count": null,
      "outputs": []
    },
    {
      "cell_type": "markdown",
      "source": [
        "##VARIABLE ALIASING"
      ],
      "metadata": {
        "id": "wrqL3Nw5EdWc"
      }
    },
    {
      "cell_type": "code",
      "source": [
        "a = [1,2,3]\n",
        "b = a\n",
        "\n",
        "#adding more li list using .append()\n",
        "b.append(4)\n",
        "print(b)\n",
        "print(a)\n",
        "\n",
        "#HOMEWORK: Function/Method Aliasing\n"
      ],
      "metadata": {
        "colab": {
          "base_uri": "https://localhost:8080/"
        },
        "id": "TCdor6opEcpu",
        "outputId": "c45bcf32-c97c-4f74-b70b-4aad994a0f0a"
      },
      "execution_count": null,
      "outputs": [
        {
          "output_type": "stream",
          "name": "stdout",
          "text": [
            "[1, 2, 3, 4]\n",
            "[1, 2, 3, 4]\n"
          ]
        }
      ]
    },
    {
      "cell_type": "markdown",
      "source": [
        "##RANDOMS IN PYTHON"
      ],
      "metadata": {
        "id": "YfwCFxdTFT5m"
      }
    },
    {
      "cell_type": "code",
      "source": [
        "#importing\n",
        "import random as rdn\n",
        "print(rdn.randint(1,10))\n"
      ],
      "metadata": {
        "colab": {
          "base_uri": "https://localhost:8080/"
        },
        "id": "mSzD6u0KE18k",
        "outputId": "8eff1dfa-17e7-4f61-d5b0-b95a1675fd5d"
      },
      "execution_count": null,
      "outputs": [
        {
          "output_type": "stream",
          "name": "stdout",
          "text": [
            "6\n"
          ]
        }
      ]
    },
    {
      "cell_type": "code",
      "source": [
        "#printing random number using .random() function/method\n",
        "random_float = rdn.random()\n",
        "print(random_float)"
      ],
      "metadata": {
        "colab": {
          "base_uri": "https://localhost:8080/"
        },
        "id": "XKI94uf8Fkww",
        "outputId": "505053cd-cc9e-4ccb-a0c3-9858c105af1f"
      },
      "execution_count": null,
      "outputs": [
        {
          "output_type": "stream",
          "name": "stdout",
          "text": [
            "0.2964494993443164\n"
          ]
        }
      ]
    },
    {
      "cell_type": "code",
      "source": [
        "random_floating_in_range = rdn.uniform(10.5,1000.99)\n",
        "print(random_floating_in_range)\n",
        "\n",
        "\n",
        "\n",
        "#HOMEWORK: EXPLORE MORE MODULES or FUNCTION/METHODS"
      ],
      "metadata": {
        "colab": {
          "base_uri": "https://localhost:8080/"
        },
        "id": "dRaruPIEF7Nk",
        "outputId": "cee4f3ca-2f34-4148-8f4e-c8b0d2bbc4f0"
      },
      "execution_count": null,
      "outputs": [
        {
          "output_type": "stream",
          "name": "stdout",
          "text": [
            "561.6448019727258\n"
          ]
        }
      ]
    },
    {
      "cell_type": "markdown",
      "source": [
        "##CREATING CUSTOMS MODUELS IN PYTHON"
      ],
      "metadata": {
        "id": "cgFYNEhtGz3Q"
      }
    },
    {
      "cell_type": "code",
      "source": [
        "#saroj.py\n",
        "%%writefile saroj1.py\n",
        "def add_numbers(a,b):\n",
        "   return a+b"
      ],
      "metadata": {
        "colab": {
          "base_uri": "https://localhost:8080/"
        },
        "id": "4CRbp3bNGTy-",
        "outputId": "064057ef-9b41-4606-afd4-0b8939cdb1f5"
      },
      "execution_count": null,
      "outputs": [
        {
          "output_type": "stream",
          "name": "stdout",
          "text": [
            "Writing saroj1.py\n"
          ]
        }
      ]
    },
    {
      "cell_type": "code",
      "source": [
        "#main.py\n",
        "import saroj1\n",
        "\n",
        "result = saroj1.add_numbers(10, 7)\n",
        "print(result)\n"
      ],
      "metadata": {
        "colab": {
          "base_uri": "https://localhost:8080/"
        },
        "id": "I1IPyOk9HJ7N",
        "outputId": "fbc856b8-39a8-42b6-ed58-17bd1c103cee"
      },
      "execution_count": null,
      "outputs": [
        {
          "output_type": "stream",
          "name": "stdout",
          "text": [
            "17\n"
          ]
        }
      ]
    },
    {
      "cell_type": "code",
      "source": [],
      "metadata": {
        "id": "4YhErvaCHpVq"
      },
      "execution_count": null,
      "outputs": []
    }
  ]
}