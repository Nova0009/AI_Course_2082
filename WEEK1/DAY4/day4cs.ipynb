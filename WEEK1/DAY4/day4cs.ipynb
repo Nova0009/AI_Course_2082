{
  "nbformat": 4,
  "nbformat_minor": 0,
  "metadata": {
    "colab": {
      "provenance": []
    },
    "kernelspec": {
      "name": "python3",
      "display_name": "Python 3"
    },
    "language_info": {
      "name": "python"
    }
  },
  "cells": [
    {
      "cell_type": "markdown",
      "source": [
        "##Readnig a file\n"
      ],
      "metadata": {
        "id": "kvu-G3iY-NWJ"
      }
    },
    {
      "cell_type": "code",
      "source": [
        "f = open(\"story.txt\", \"r\")\n",
        "content = f.read()\n",
        "f.close()\n",
        "try:\n",
        "    with open(\"story.txt\", \"r\") as nova:\n",
        "      content = nova.read()\n",
        "      words =content.split()\n",
        "      print(f\"word count: {len(words)}\")\n",
        "except FileNotFoundError:\n",
        "    print(\"file not found\")"
      ],
      "metadata": {
        "colab": {
          "base_uri": "https://localhost:8080/"
        },
        "id": "emRsDxJ8-uNk",
        "outputId": "eec92b0e-2638-41bd-f7c7-0472520b530a"
      },
      "execution_count": null,
      "outputs": [
        {
          "output_type": "stream",
          "name": "stdout",
          "text": [
            "word count: 5\n"
          ]
        }
      ]
    },
    {
      "cell_type": "markdown",
      "source": [
        "##basic exceptin handling\n"
      ],
      "metadata": {
        "id": "j9eartHID7o5"
      }
    },
    {
      "cell_type": "code",
      "source": [
        "a = 6\n",
        "print(a)"
      ],
      "metadata": {
        "colab": {
          "base_uri": "https://localhost:8080/"
        },
        "id": "j8Ti_fnyEdvU",
        "outputId": "f1e7b1c8-f71b-4409-a647-f8522ff273c7"
      },
      "execution_count": null,
      "outputs": [
        {
          "output_type": "stream",
          "name": "stdout",
          "text": [
            "6\n"
          ]
        }
      ]
    },
    {
      "cell_type": "code",
      "source": [
        "\n",
        "try:\n",
        "  print(b)\n",
        "except NameError:\n",
        "  print(\"Name error here\")\n",
        "\n"
      ],
      "metadata": {
        "colab": {
          "base_uri": "https://localhost:8080/"
        },
        "id": "QIH0kjITABYz",
        "outputId": "bb7d1422-523c-49cb-c625-10053c555867"
      },
      "execution_count": null,
      "outputs": [
        {
          "output_type": "stream",
          "name": "stdout",
          "text": [
            "Name error here\n"
          ]
        }
      ]
    },
    {
      "cell_type": "markdown",
      "source": [
        "##HOMEWORK\n"
      ],
      "metadata": {
        "id": "l8sky5OGymXX"
      }
    },
    {
      "cell_type": "code",
      "source": [
        "f = open(\"data.txt\", \"r\")\n",
        "print(f.readlines())\n",
        "f.close()\n",
        "try:\n",
        "  with open(\"data.txt\", \"r\") as f:\n",
        "    print(f.readlines())\n",
        "\n",
        "except FileNotFoundError:\n",
        "  print(\"Error: 'data.txt' not found.\")"
      ],
      "metadata": {
        "colab": {
          "base_uri": "https://localhost:8080/"
        },
        "id": "Wj8TxQ8SypbV",
        "outputId": "acea86a0-3810-4ac7-f67c-0a24fa10426e"
      },
      "execution_count": null,
      "outputs": [
        {
          "output_type": "stream",
          "name": "stdout",
          "text": [
            "['Hello everyone my name is saroj magar \\n', 'i am learning AI \\n', \"It's interestiing to learn AI\"]\n",
            "['Hello everyone my name is saroj magar \\n', 'i am learning AI \\n', \"It's interestiing to learn AI\"]\n"
          ]
        }
      ]
    },
    {
      "cell_type": "markdown",
      "source": [
        "##writing a file"
      ],
      "metadata": {
        "id": "Bpr4Wt1M11Py"
      }
    },
    {
      "cell_type": "code",
      "source": [
        "f = open(\"user.txt\", \"w\")\n",
        "f.write(\"hello\")\n",
        "f.close()\n",
        "\n",
        "\n",
        "try:\n",
        "  name = input(\"Enter your name :\")\n",
        "  with open(\"user.txt\", \"w\") as file:\n",
        "    file.write(name)\n",
        "except Exception as e:\n",
        "    print(f\"An error occured: {e}\")\n"
      ],
      "metadata": {
        "colab": {
          "base_uri": "https://localhost:8080/"
        },
        "id": "xXU3dcsg16FI",
        "outputId": "efa46e89-c6d1-40dd-f0ff-126ff7639ae0"
      },
      "execution_count": null,
      "outputs": [
        {
          "name": "stdout",
          "output_type": "stream",
          "text": [
            "Enter your name :saroj magar\n"
          ]
        }
      ]
    },
    {
      "cell_type": "markdown",
      "source": [
        "##appending to a file\n"
      ],
      "metadata": {
        "id": "eGB-Vruy54lm"
      }
    },
    {
      "cell_type": "code",
      "source": [
        "f = open(\"number.txt\", \"r\")\n",
        "f.read()\n",
        "f.close()\n",
        "\n",
        "try:\n",
        "        with open(\"number.txt\", \"r\") as file:\n",
        "            total = 0\n",
        "            for line in file:\n",
        "                try:\n",
        "                    total += float(line.strip())\n",
        "                except ValueError:\n",
        "                    print(f\"Non-numeric data ignored: {line.strip()}\")\n",
        "            print(f\"Sum: {total}\")\n",
        "except FileNotFoundError:\n",
        "        print(\"Error: 'number.txt' not found.\")\n"
      ],
      "metadata": {
        "colab": {
          "base_uri": "https://localhost:8080/"
        },
        "id": "V27uHZHx2Nhm",
        "outputId": "93dfd83c-27c9-4a1c-ecaa-8040b929b399"
      },
      "execution_count": null,
      "outputs": [
        {
          "output_type": "stream",
          "name": "stdout",
          "text": [
            "Non-numeric data ignored: saroj\n",
            "Non-numeric data ignored: xyz\n",
            "Sum: 46.9\n"
          ]
        }
      ]
    },
    {
      "cell_type": "code",
      "source": [],
      "metadata": {
        "id": "NYk8f5Hw68vt"
      },
      "execution_count": null,
      "outputs": []
    }
  ]
}