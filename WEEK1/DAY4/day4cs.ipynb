{
  "nbformat": 4,
  "nbformat_minor": 0,
  "metadata": {
    "colab": {
      "provenance": [],
      "toc_visible": true
    },
    "kernelspec": {
      "name": "python3",
      "display_name": "Python 3"
    },
    "language_info": {
      "name": "python"
    }
  },
  "cells": [
    {
      "cell_type": "markdown",
      "source": [
        "##classwork"
      ],
      "metadata": {
        "id": "kvu-G3iY-NWJ"
      }
    },
    {
      "cell_type": "code",
      "source": [
        "f = open(\"story.txt\", \"r\")\n",
        "content = f.read()\n",
        "words = content.split()\n",
        "words_count = (len(words))\n",
        "print(f\"The number of words in story.txt is: {words_count}\")\n",
        "f.close()\n"
      ],
      "metadata": {
        "colab": {
          "base_uri": "https://localhost:8080/"
        },
        "id": "emRsDxJ8-uNk",
        "outputId": "580d880a-f6ba-4a27-d241-e24bd79fd7bc"
      },
      "execution_count": 12,
      "outputs": [
        {
          "output_type": "stream",
          "name": "stdout",
          "text": [
            "The number of words in story.txt is: 19\n"
          ]
        }
      ]
    },
    {
      "cell_type": "markdown",
      "source": [
        "##basic exceptin handling\n"
      ],
      "metadata": {
        "id": "j9eartHID7o5"
      }
    },
    {
      "cell_type": "code",
      "source": [
        "a = 6\n",
        "print(a)"
      ],
      "metadata": {
        "colab": {
          "base_uri": "https://localhost:8080/"
        },
        "id": "j8Ti_fnyEdvU",
        "outputId": "f1e7b1c8-f71b-4409-a647-f8522ff273c7"
      },
      "execution_count": 15,
      "outputs": [
        {
          "output_type": "stream",
          "name": "stdout",
          "text": [
            "6\n"
          ]
        }
      ]
    },
    {
      "cell_type": "code",
      "source": [
        "\n",
        "try:\n",
        "  print(b)\n",
        "except NameError:\n",
        "  print(\"Name error here\")\n",
        "\n"
      ],
      "metadata": {
        "colab": {
          "base_uri": "https://localhost:8080/"
        },
        "id": "QIH0kjITABYz",
        "outputId": "bb7d1422-523c-49cb-c625-10053c555867"
      },
      "execution_count": 20,
      "outputs": [
        {
          "output_type": "stream",
          "name": "stdout",
          "text": [
            "Name error here\n"
          ]
        }
      ]
    },
    {
      "cell_type": "code",
      "source": [],
      "metadata": {
        "id": "V7M7IgOZEMZZ"
      },
      "execution_count": null,
      "outputs": []
    }
  ]
}