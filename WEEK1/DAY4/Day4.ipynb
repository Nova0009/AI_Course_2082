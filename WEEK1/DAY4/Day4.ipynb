{
  "nbformat": 4,
  "nbformat_minor": 0,
  "metadata": {
    "colab": {
      "provenance": []
    },
    "kernelspec": {
      "name": "python3",
      "display_name": "Python 3"
    },
    "language_info": {
      "name": "python"
    }
  },
  "cells": [
    {
      "cell_type": "markdown",
      "source": [
        "##FILE HANDLING AND EXCEPTION"
      ],
      "metadata": {
        "id": "2C7uQWvp3-DY"
      }
    },
    {
      "cell_type": "markdown",
      "source": [
        "##OPENING AND READING A FILE"
      ],
      "metadata": {
        "id": "qEr3bHLW4Rd1"
      }
    },
    {
      "cell_type": "code",
      "execution_count": null,
      "metadata": {
        "colab": {
          "base_uri": "https://localhost:8080/"
        },
        "id": "rii1IPtM33ED",
        "outputId": "b2d4ac4e-f6ff-4e13-a8e5-f50aaa8b929d"
      },
      "outputs": [
        {
          "output_type": "stream",
          "name": "stdout",
          "text": [
            "Hallo guten tag my name ist saroj magar\n",
            "ich bin 19 jahre alt\n",
            "ich wohne in samakhushi kathmandu\n"
          ]
        }
      ],
      "source": [
        "f = open(\"file.txt\", \"r\")\n",
        "print(f.read())\n",
        "f.close()\n",
        "\n"
      ]
    },
    {
      "cell_type": "code",
      "source": [
        "f = open(\"file.txt\", \"r\")\n",
        "print(f.readline())"
      ],
      "metadata": {
        "colab": {
          "base_uri": "https://localhost:8080/"
        },
        "id": "JSxRezMiyvQl",
        "outputId": "32ca465f-3e55-47cb-a06f-d5fdd3d03844"
      },
      "execution_count": null,
      "outputs": [
        {
          "output_type": "stream",
          "name": "stdout",
          "text": [
            "Hallo guten tag my name ist saroj magar\n",
            "\n"
          ]
        }
      ]
    },
    {
      "cell_type": "code",
      "source": [
        "f =open(\"file.txt\", \"r\")\n",
        "print(f.read(15))"
      ],
      "metadata": {
        "colab": {
          "base_uri": "https://localhost:8080/"
        },
        "id": "GT1tqlzQy0-a",
        "outputId": "1ff5a2a5-e6fb-40ce-ca56-6f4f52a78af0"
      },
      "execution_count": null,
      "outputs": [
        {
          "output_type": "stream",
          "name": "stdout",
          "text": [
            "Hallo guten tag\n"
          ]
        }
      ]
    },
    {
      "cell_type": "code",
      "source": [
        "f = open(\"file.txt\", \"r\")\n",
        "print(f.read())\n",
        "f.close"
      ],
      "metadata": {
        "colab": {
          "base_uri": "https://localhost:8080/"
        },
        "id": "e_0etE3b5uH1",
        "outputId": "28ba7917-9f1c-453c-c43d-f3ee01e2f5f4"
      },
      "execution_count": null,
      "outputs": [
        {
          "output_type": "stream",
          "name": "stdout",
          "text": [
            "Hallo guten tag my name ist saroj magar\n",
            "ich bin 19 jahre alt\n",
            "ich wohne in samakhushi kathmandu\n"
          ]
        },
        {
          "output_type": "execute_result",
          "data": {
            "text/plain": [
              "<function TextIOWrapper.close()>"
            ]
          },
          "metadata": {},
          "execution_count": 9
        }
      ]
    },
    {
      "cell_type": "markdown",
      "source": [
        "##with operation"
      ],
      "metadata": {
        "id": "X8FeBnCg6zrV"
      }
    },
    {
      "cell_type": "code",
      "source": [
        "with open (\"file.txt\", \"r\") as f:\n",
        " print(f.read())"
      ],
      "metadata": {
        "colab": {
          "base_uri": "https://localhost:8080/"
        },
        "id": "Q3p6gYWq6fq8",
        "outputId": "0f05594a-3ee3-4e18-960b-74ba9307d697"
      },
      "execution_count": null,
      "outputs": [
        {
          "output_type": "stream",
          "name": "stdout",
          "text": [
            "Hallo guten tag my name ist saroj magar\n",
            "ich bin 19 jahre alt\n",
            "ich wohne in samakhushi kathmandu\n"
          ]
        }
      ]
    },
    {
      "cell_type": "markdown",
      "source": [
        "##write mode"
      ],
      "metadata": {
        "id": "zKKe2qeS7KEF"
      }
    },
    {
      "cell_type": "code",
      "source": [
        "f = open(\"file.txt\", \"w\")\n",
        "f.write(\"i am just a student\")"
      ],
      "metadata": {
        "id": "420uXbJ96spF",
        "colab": {
          "base_uri": "https://localhost:8080/"
        },
        "outputId": "e87dfe17-2bdd-4905-b939-c48ea0cf1cc0"
      },
      "execution_count": null,
      "outputs": [
        {
          "output_type": "execute_result",
          "data": {
            "text/plain": [
              "19"
            ]
          },
          "metadata": {},
          "execution_count": 10
        }
      ]
    },
    {
      "cell_type": "code",
      "source": [
        "with open(\"file.txt\", \"w\") as f:\n",
        "  f.write(\"i am just a student\")"
      ],
      "metadata": {
        "id": "1X5MGfnI7FEc"
      },
      "execution_count": null,
      "outputs": []
    },
    {
      "cell_type": "markdown",
      "source": [
        "##append mode"
      ],
      "metadata": {
        "id": "tjXrkyYx7_2f"
      }
    },
    {
      "cell_type": "code",
      "source": [
        "f = open(\"file.txt\")"
      ],
      "metadata": {
        "id": "4vZKYry77Zc5"
      },
      "execution_count": null,
      "outputs": []
    },
    {
      "cell_type": "code",
      "source": [
        "import os\n",
        "os.remove(\"file.txt\")"
      ],
      "metadata": {
        "id": "QCVqtrpw8JG8"
      },
      "execution_count": null,
      "outputs": []
    },
    {
      "cell_type": "code",
      "source": [
        "import os\n",
        "\n",
        "folder = \"/content/delete_me\"\n",
        "\n",
        "if os.path.exists(folder):\n",
        "    os.rmdir(folder)\n",
        "    print(\"Folder deleted.\")\n",
        "else:\n",
        "    print(\"Folder not found.\")\n"
      ],
      "metadata": {
        "colab": {
          "base_uri": "https://localhost:8080/"
        },
        "id": "2qYQDwDq8Rew",
        "outputId": "68cee3b2-612c-416d-9589-88d6bcad01e1"
      },
      "execution_count": null,
      "outputs": [
        {
          "output_type": "stream",
          "name": "stdout",
          "text": [
            "Folder not found.\n"
          ]
        }
      ]
    },
    {
      "cell_type": "code",
      "source": [],
      "metadata": {
        "id": "xAfVXdT88kS3"
      },
      "execution_count": null,
      "outputs": []
    }
  ]
}