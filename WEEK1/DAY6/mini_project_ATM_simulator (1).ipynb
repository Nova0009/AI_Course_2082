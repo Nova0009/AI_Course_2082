{
  "cells": [
    {
      "cell_type": "markdown",
      "metadata": {
        "id": "1uCk9X47QeUL"
      },
      "source": [
        "#mini ATM simulator"
      ]
    },
    {
      "cell_type": "markdown",
      "metadata": {
        "id": "Z6hsxFDfR6Kj"
      },
      "source": [
        "#coding workspace"
      ]
    },
    {
      "cell_type": "code",
      "execution_count": null,
      "metadata": {
        "colab": {
          "background_save": true,
          "base_uri": "https://localhost:8080/"
        },
        "id": "tjbv1pD5jYVq",
        "outputId": "842c434e-3fa3-45b6-d668-7f821fa90801"
      },
      "outputs": [
        {
          "metadata": {
            "tags": null
          },
          "name": "stdout",
          "output_type": "stream",
          "text": [
            "/--ATM simulator--/\n",
            "1.Check balance\n",
            "2.Withdraw\n",
            "3.Deposit\n",
            "4.Exit\n",
            "\n",
            "\n"
          ]
        }
      ],
      "source": [
        "#Basic structure for ATM project\n",
        "balance=10000  #initial balance\n",
        "#creating loop to run the code continuously\n",
        "while True:\n",
        "  print(\"/--ATM simulator--/\")\n",
        "  print(\"1.Check balance\")\n",
        "  print(\"2.Withdraw\")\n",
        "  print(\"3.Deposit\")\n",
        "  print(\"4.Exit\\n\\n\")\n",
        "#creating the choices to choose from menu\n",
        "  choice=int(input(\"Enter your choice:\\n\"))\n",
        "\n",
        "#to check balance\n",
        "  if choice==1:\n",
        "    print(\"Your balance is:{balance}\\n\")\n",
        "\n",
        "#to withdraw money\n",
        "  elif choice==2:\n",
        "    withdraw=int(input(\"Enter the amount to withdraw:\\n\"))\n",
        "    if withdraw>balance:\n",
        "\n",
        "\n",
        "#shows error if balance is insufficient\n",
        "      print(\"Insufficient balance!!!\\n\")\n",
        "    else:\n",
        "\n",
        "\n",
        "#shows the remaining amount after anount is withdrawn\n",
        "      balance-=withdraw\n",
        "      print(\"Your remaining balance is:\",balance,\"\\n\")\n",
        "\n",
        "\n",
        "#to deposite the amount\n",
        "  elif choice==3:\n",
        "    deposit=int(input(\"Enter the amount to deposit:\\n\"))\n",
        "    balance+=deposit\n",
        "    print(f\"Rs.{deposit} was added to your previous balance\\nYour updated balance is: Rs.{balance}\\n\")\n",
        "\n",
        "\n",
        "#exiting the program\n",
        "  elif(choice==4):\n",
        "    print(\"Thank you for using atm simulator\")\n",
        "    print(f\"You have Rs.{balance} remaining in your account!!!\\n\")\n",
        "    break\n",
        "\n",
        "\n",
        "#shows invalid if the user puts the invalid data\n",
        "  else:\n",
        "    print(\"Invalid option\")\n",
        "\n",
        "\n"
      ]
    },
    {
      "cell_type": "code",
      "execution_count": null,
      "metadata": {
        "id": "hrFWZKq25o5u"
      },
      "outputs": [],
      "source": [
        "# initial balance\n",
        "balance = 10000\n",
        "\n",
        "#Grants users only 3 attempts are allowed\n",
        "count = 3\n",
        "\n",
        "\n",
        "#creating outer loop to enter pin for multiple times\n",
        "while True:\n",
        "    pin = int(input(\"Enter your pin:\\n\"))\n",
        "\n",
        "#checking entered pin is correct\n",
        "    if pin != 1234:\n",
        "        print(\"Invalid pin, try again!!\")\n",
        "\n",
        "#counting the number of attempts entering a pin\n",
        "        count -= 1\n",
        "        print(f\"{count} trials remaining!!\")\n",
        "\n",
        "\n",
        "#blockig the account after entering wrong pin multiple times\n",
        "        if count == 0:\n",
        "            print(\"Your card has been blocked\")\n",
        "            break\n",
        "    else:\n",
        "        # starts inner loop Main ATM operations after correct PIN\n",
        "        while True:\n",
        "            print(\"Welcome to ATM services\")\n",
        "            print(\"/-- ATM Simulator --/\")\n",
        "            print(\"1. Check balance\")\n",
        "            print(\"2. Withdraw\")\n",
        "            print(\"3. Deposit\")\n",
        "            print(\"4. Exit\\n\")\n",
        "\n",
        "\n",
        "#asks user to choose ATM machine functions\n",
        "            choice = int(input(\"Enter your choice:\\n\"))\n",
        "\n",
        "\n",
        "#shows current balance\n",
        "            if choice == 1:\n",
        "                print(f\"Your balance is: Rs.{balance}\\n\")\n",
        "\n",
        "\n",
        "#grants user to withdraw money\n",
        "            elif choice == 2:\n",
        "                withdraw = int(input(\"Enter the amount to withdraw:\\n\"))\n",
        "                if withdraw > balance:\n",
        "                    print(\"Insufficient balance!!!\\n\")\n",
        "                else:\n",
        "                    balance -= withdraw\n",
        "                    print(\"Your remaining balance is:\", balance, \"\\n\")\n",
        "\n",
        "\n",
        "\n",
        "#grants user to deposit the money\n",
        "            elif choice == 3:\n",
        "                deposit = int(input(\"Enter the amount to deposit:\\n\"))\n",
        "                balance += deposit\n",
        "                print(f\"Rs.{deposit} was added to your previous balance\\nYour updated balance is: Rs.{balance}\\n\")\n",
        "\n",
        "\n",
        "\n",
        "#exit the ATM machine program\n",
        "            elif choice == 4:\n",
        "                print(\"Thank you for using ATM simulator\")\n",
        "                print(f\"You have Rs.{balance} remaining in your account!!!\\n\")\n",
        "                # Breaks both inner and outer loop using nested breaks\n",
        "                break  # break inner loop\n",
        "        break  # break outer loop after inner is done\n"
      ]
    }
  ],
  "metadata": {
    "colab": {
      "provenance": []
    },
    "kernelspec": {
      "display_name": "Python 3",
      "name": "python3"
    },
    "language_info": {
      "name": "python"
    }
  },
  "nbformat": 4,
  "nbformat_minor": 0
}