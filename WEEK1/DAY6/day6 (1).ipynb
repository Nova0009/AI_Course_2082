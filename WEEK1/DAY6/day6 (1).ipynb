{
  "nbformat": 4,
  "nbformat_minor": 0,
  "metadata": {
    "colab": {
      "provenance": []
    },
    "kernelspec": {
      "name": "python3",
      "display_name": "Python 3"
    },
    "language_info": {
      "name": "python"
    }
  },
  "cells": [
    {
      "cell_type": "markdown",
      "source": [
        "Hands-on practive: pandas and matplotlib"
      ],
      "metadata": {
        "id": "2stURUi8XH2x"
      }
    },
    {
      "cell_type": "markdown",
      "source": [
        "Exercise 1: creating a pandas\n",
        "\n",
        "pandas series = 1-D array with labels"
      ],
      "metadata": {
        "id": "Ps9ppjTTZqcZ"
      }
    },
    {
      "cell_type": "code",
      "source": [
        "#importing pandas moduel\n",
        "import pandas as pd\n",
        "scores = pd.Series([30,50,29,68,89], index=[\"maths\",\"physics\",\"chemistry\",\"bilogy\",\"english\"])\n",
        "print(scores)\n",
        "\n",
        "\n",
        "#"
      ],
      "metadata": {
        "id": "EN27s758EqXN",
        "colab": {
          "base_uri": "https://localhost:8080/"
        },
        "outputId": "61a9a631-5968-46f2-b43b-95ca4d995827"
      },
      "execution_count": null,
      "outputs": [
        {
          "output_type": "stream",
          "name": "stdout",
          "text": [
            "maths        30\n",
            "physics      50\n",
            "chemistry    29\n",
            "bilogy       68\n",
            "english      89\n",
            "dtype: int64\n"
          ]
        }
      ]
    },
    {
      "cell_type": "markdown",
      "source": [
        "Exercise 2: Creating a pandas DataFrame\n",
        "\n",
        "DataFrame is in a table format"
      ],
      "metadata": {
        "id": "60zzzUU6a4g5"
      }
    },
    {
      "cell_type": "code",
      "source": [
        "import pandas as pd\n",
        "\n",
        "# Creating a dictionary\n",
        "data = {\n",
        "    \"Name\": [\"Saroj\", \"Ajay\", \"Narayan\"],\n",
        "    \"Class\": [7, 8, 9],\n",
        "    \"Roll\": [6, 7, 8],\n",
        "    \"Address\": [\"kathmandu\", \"bhaktapur\", \"lalitpur\"]\n",
        "}\n",
        "\n",
        "# Turning dictionary into a DataFrame\n",
        "df = pd.DataFrame(data)\n",
        "print(df)\n",
        "\n",
        "print(df.to_string(index=False))\n",
        "\n",
        "#filtering\n",
        "filter = df[df[\"Roll\"]>7]\n",
        "print(filter)\n",
        "\n"
      ],
      "metadata": {
        "colab": {
          "base_uri": "https://localhost:8080/"
        },
        "id": "sCuUCe0Kc-Qj",
        "outputId": "9a9ed421-cec6-44d0-f999-60b310721ae3"
      },
      "execution_count": null,
      "outputs": [
        {
          "output_type": "stream",
          "name": "stdout",
          "text": [
            "      Name  Class  Roll    Address\n",
            "0    Saroj      7     6  kathmandu\n",
            "1     Ajay      8     7  bhaktapur\n",
            "2  Narayan      9     8   lalitpur\n",
            "   Name  Class  Roll   Address\n",
            "  Saroj      7     6 kathmandu\n",
            "   Ajay      8     7 bhaktapur\n",
            "Narayan      9     8  lalitpur\n",
            "      Name  Class  Roll   Address\n",
            "2  Narayan      9     8  lalitpur\n"
          ]
        }
      ]
    },
    {
      "cell_type": "markdown",
      "source": [
        "Exercise 4: reading and processing a CSV File  "
      ],
      "metadata": {
        "id": "6A1g3NOdddDj"
      }
    },
    {
      "cell_type": "code",
      "source": [
        "import io\n",
        "csv_data = \"\"\"\n",
        "Name,Class,Roll,Address\n",
        "Saroj,7,6,kathmandu\n",
        "Ajay,8,7,bhaktapur\n",
        "Narayan,9,8,lalitpur\n",
        "\"\"\"\n",
        "df = pd.read_csv(io.StringIO(csv_data))\n",
        "print(df)\n",
        "#filter\n",
        "#filter = df[df[\"class\"]>7]\n",
        "#print(filter)\n",
        "\n",
        "\n",
        "filter = df[df[\"Class\"]>7]\n",
        "print(filter)\n",
        "\n",
        "\n",
        "#calculate average grade\n",
        "average_grade = df['Class'].mean()\n",
        "print(average_grade)\n"
      ],
      "metadata": {
        "colab": {
          "base_uri": "https://localhost:8080/"
        },
        "id": "53RxTL5pe8nw",
        "outputId": "dac2c9a4-4311-4b14-c9a4-ceecb229eaf4"
      },
      "execution_count": null,
      "outputs": [
        {
          "output_type": "stream",
          "name": "stdout",
          "text": [
            "      Name  Class  Roll    Address\n",
            "0    Saroj      7     6  kathmandu\n",
            "1     Ajay      8     7  bhaktapur\n",
            "2  Narayan      9     8   lalitpur\n",
            "      Name  Class  Roll    Address\n",
            "1     Ajay      8     7  bhaktapur\n",
            "2  Narayan      9     8   lalitpur\n",
            "8.0\n"
          ]
        }
      ]
    },
    {
      "cell_type": "markdown",
      "source": [
        "Exercise 5: Basic plotting with matplotlib"
      ],
      "metadata": {
        "id": "yuMl8qMIhujl"
      }
    },
    {
      "cell_type": "code",
      "source": [
        "import matplotlib.pyplot as plt\n",
        "#define data for basic plotting\n",
        "x = [1,2,3,4,5]\n",
        "y = [2,4,6,8,10]\n",
        "\n",
        "plt.plot(x,y,marker='o')\n",
        "plt.title(\"plotting example\")\n",
        "plt.xlabel(\"x-axis\")\n",
        "plt.ylabel(\"y-axis\")\n",
        "plt.grid(True)\n",
        "plt.savefig(\"my_first_plot.png\")\n",
        "plt.show()\n"
      ],
      "metadata": {
        "colab": {
          "base_uri": "https://localhost:8080/",
          "height": 472
        },
        "id": "co3VGVLOhziN",
        "outputId": "bb3fb2d1-1886-4f63-a57c-de22047e5fd9"
      },
      "execution_count": null,
      "outputs": [
        {
          "output_type": "display_data",
          "data": {
            "text/plain": [
              "<Figure size 640x480 with 1 Axes>"
            ],
            "image/png": "[encoded data removed]"
          },
          "metadata": {}
        }
      ]
    },
    {
      "cell_type": "markdown",
      "source": [
        "Exercise 6: Visualizing a DataFrame with Matplotlib"
      ],
      "metadata": {
        "id": "as-eVt2tkEKJ"
      }
    },
    {
      "cell_type": "code",
      "source": [
        "data = {\n",
        "    \"Name\": [\"Saroj\", \"Ajay\", \"Narayan\", \"Nikesh\"],\n",
        "    \"Class\": [7, 8, 9, 10],\n",
        "\n",
        "}\n",
        "df = pd.DataFrame(data)\n",
        "\n",
        "plt.bar(df[\"Name\"],df[\"Class\"])\n",
        "plt.title(\"Bar Plot\")\n",
        "plt.xlabel(\"Name\")\n",
        "plt.ylabel(\"Class\")\n",
        "plt.savefig(\"my_second_plot.png\")\n",
        "plt.show()"
      ],
      "metadata": {
        "colab": {
          "base_uri": "https://localhost:8080/",
          "height": 472
        },
        "id": "5DZRM0fuiZii",
        "outputId": "1cf617ed-fb28-4715-fc4a-404ec2761d1c"
      },
      "execution_count": null,
      "outputs": [
        {
          "output_type": "display_data",
          "data": {
            "text/plain": [
              "<Figure size 640x480 with 1 Axes>"
            ],
            "image/png": "[encoded data removed]"
          },
          "metadata": {}
        }
      ]
    },
    {
      "cell_type": "code",
      "source": [
        "#Task 1: Create a Pandas Series with values [10, 20, 30, 40] and indices [”A”, ”B”, ”C”, ”D”]. Print the Series.\n",
        "import pandas as pd\n",
        "data = pd.Series([10,20,30,40],index=[\"A\",\"B\",\"C\",\"D\"])\n",
        "print(data)"
      ],
      "metadata": {
        "colab": {
          "base_uri": "https://localhost:8080/"
        },
        "id": "XQkptieQw1DM",
        "outputId": "1f05d040-bb06-4ec1-8175-5532e49afe99"
      },
      "execution_count": null,
      "outputs": [
        {
          "output_type": "stream",
          "name": "stdout",
          "text": [
            "A    10\n",
            "B    20\n",
            "C    30\n",
            "D    40\n",
            "dtype: int64\n"
          ]
        }
      ]
    },
    {
      "cell_type": "code",
      "source": [
        "#Create a DataFrame with columns ”City” ([”Paris”, ”Tokyo”, ”Sydney”]) and ”Population” ([2.1, 37.4, 5.3]). Print the DataFrame.\n",
        "import pandas as pd\n",
        "data = {\n",
        "    \"City\":[\"Paris\",\"Tokyo\",\"Sydney\"],\n",
        "    \"Population\":[2.1,37.4,5.3]\n",
        "}\n",
        "df = pd.DataFrame(data)\n",
        "print(df)"
      ],
      "metadata": {
        "colab": {
          "base_uri": "https://localhost:8080/"
        },
        "id": "UaJoRpqXw5dF",
        "outputId": "c615a598-04f0-43ee-fdb1-c01393f2950d"
      },
      "execution_count": null,
      "outputs": [
        {
          "output_type": "stream",
          "name": "stdout",
          "text": [
            "     City  Population\n",
            "0   Paris         2.1\n",
            "1   Tokyo        37.4\n",
            "2  Sydney         5.3\n"
          ]
        }
      ]
    },
    {
      "cell_type": "code",
      "source": [
        "#Create a DataFrame with columns ”Name” ([”Eve”, ”Frank”, ”Grace”]) and ”Age” ([19, 23, 20]). Filter rows where Age is greater than 20 and print the result.\n",
        "import pandas as pd\n",
        "data = {\n",
        "    \"Name\":[\"Eve\",\"Frank\",\"Grace\"],\n",
        "    \"Age\":[19,23,20]\n",
        "}\n",
        "df = pd.DataFrame(data)\n",
        "filter = df[df[\"Age\"]>20]\n",
        "print(filter)"
      ],
      "metadata": {
        "colab": {
          "base_uri": "https://localhost:8080/"
        },
        "id": "WgIHQ3mfxA7s",
        "outputId": "f75bfc00-fad8-427e-a07f-71250f7f810d"
      },
      "execution_count": null,
      "outputs": [
        {
          "output_type": "stream",
          "name": "stdout",
          "text": [
            "    Name  Age\n",
            "1  Frank   23\n"
          ]
        }
      ]
    },
    {
      "cell_type": "code",
      "source": [
        "#Simulate a CSV string with columns ”Product” ([”Apple”, ”Banana”, ”Orange”]) and ”Price” ([1.0, 0.5, 0.75]). Read it into a DataFrame and print the sum of prices using df[”Price”].sum().\n",
        "import io\n",
        "csv_data = \"\"\"\n",
        "Product,Price\n",
        "Apple,1.0\n",
        "Banana,0.5\n",
        "Orange,0.75\n",
        "\"\"\"\n",
        "df = pd.read_csv(io.StringIO(csv_data))\n",
        "print(df)\n",
        "print(df[\"Price\"].sum())\n"
      ],
      "metadata": {
        "colab": {
          "base_uri": "https://localhost:8080/"
        },
        "id": "KsWmXmDyxSRz",
        "outputId": "e74615b9-498e-4cca-8d2b-771925b14507"
      },
      "execution_count": null,
      "outputs": [
        {
          "output_type": "stream",
          "name": "stdout",
          "text": [
            "  Product  Price\n",
            "0   Apple   1.00\n",
            "1  Banana   0.50\n",
            "2  Orange   0.75\n",
            "2.25\n"
          ]
        }
      ]
    }
  ]
}